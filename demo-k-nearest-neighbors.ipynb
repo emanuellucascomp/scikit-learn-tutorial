{
 "cells": [
  {
   "cell_type": "code",
   "execution_count": 1,
   "metadata": {},
   "outputs": [],
   "source": [
    "from sklearn.neighbors import KNeighborsClassifier"
   ]
  },
  {
   "cell_type": "code",
   "execution_count": 9,
   "metadata": {},
   "outputs": [
    {
     "data": {
      "text/plain": [
       "' (n_neighbors=5, weights=’uniform’, algorithm=’auto’, leaf_size=30, p=2, metric=’minkowski’, metric_params=None, n_jobs=None, **kwargs)\\n\\nn_neighbors : int, optional (default = 5)\\n    Number of neighbors to use by default for kneighbors queries.\\n    \\nweights : str or callable, optional (default = ‘uniform’)\\n    weight function used in prediction. Possible values:\\n        ‘uniform’ : uniform weights. All points in each neighborhood are weighted equally.\\n        ‘distance’ : weight points by the inverse of their distance. in this case, closer neighbors of a query point will\\n            have a greater influence than neighbors which are further away.\\n        [callable] : a user-defined function which accepts an array of distances, and returns an array of the same shape\\n            containing the weights.\\n\\nalgorithm : {‘auto’, ‘ball_tree’, ‘kd_tree’, ‘brute’}, optional\\n    Algorithm used to compute the nearest neighbors:\\n        ‘ball_tree’ will use BallTree\\n        ‘kd_tree’ will use KDTree\\n        ‘brute’ will use a brute-force search.\\n        ‘auto’ will attempt to decide the most appropriate algorithm based on the values passed to fit method.\\n    Note: fitting on sparse input will override the setting of this parameter, using brute force.\\n    \\nleaf_size : int, optional (default = 30)\\n    Leaf size passed to BallTree or KDTree. This can affect the speed of the construction and query, as well as the memory\\n        required to store the tree. The optimal value depends on the nature of the problem.\\n\\np : integer, optional (default = 2)\\n    Power parameter for the Minkowski metric. When p = 1, this is equivalent to using manhattan_distance (l1), and \\n        euclidean_distance (l2) for p = 2. For arbitrary p, minkowski_distance (l_p) is used.\\n\\nmetric : string or callable, default ‘minkowski’\\n    the distance metric to use for the tree. The default metric is minkowski, and with p=2 is equivalent to the standard \\n        Euclidean metric. See the documentation of the DistanceMetric class for a list of available metrics.\\n\\nmetric_params : dict, optional (default = None)\\n    Additional keyword arguments for the metric function.\\n\\nn_jobs : int or None, optional (default=None)\\n    The number of parallel jobs to run for neighbors search. None means 1 unless in a joblib.parallel_backend context. -1\\n        means using all processors. See Glossary for more details. Doesn’t affect fit method.\\n'"
      ]
     },
     "execution_count": 9,
     "metadata": {},
     "output_type": "execute_result"
    }
   ],
   "source": [
    "knn = KNeighborsClassifier(n_neighbors=8)\n",
    "\"\"\" (n_neighbors=5, weights=’uniform’, algorithm=’auto’, leaf_size=30, p=2, metric=’minkowski’, metric_params=None, n_jobs=None, **kwargs)\n",
    "\n",
    "n_neighbors : int, optional (default = 5)\n",
    "    Number of neighbors to use by default for kneighbors queries.\n",
    "    \n",
    "weights : str or callable, optional (default = ‘uniform’)\n",
    "    weight function used in prediction. Possible values:\n",
    "        ‘uniform’ : uniform weights. All points in each neighborhood are weighted equally.\n",
    "        ‘distance’ : weight points by the inverse of their distance. in this case, closer neighbors of a query point will\n",
    "            have a greater influence than neighbors which are further away.\n",
    "        [callable] : a user-defined function which accepts an array of distances, and returns an array of the same shape\n",
    "            containing the weights.\n",
    "\n",
    "algorithm : {‘auto’, ‘ball_tree’, ‘kd_tree’, ‘brute’}, optional\n",
    "    Algorithm used to compute the nearest neighbors:\n",
    "        ‘ball_tree’ will use BallTree\n",
    "        ‘kd_tree’ will use KDTree\n",
    "        ‘brute’ will use a brute-force search.\n",
    "        ‘auto’ will attempt to decide the most appropriate algorithm based on the values passed to fit method.\n",
    "    Note: fitting on sparse input will override the setting of this parameter, using brute force.\n",
    "    \n",
    "leaf_size : int, optional (default = 30)\n",
    "    Leaf size passed to BallTree or KDTree. This can affect the speed of the construction and query, as well as the memory\n",
    "        required to store the tree. The optimal value depends on the nature of the problem.\n",
    "\n",
    "p : integer, optional (default = 2)\n",
    "    Power parameter for the Minkowski metric. When p = 1, this is equivalent to using manhattan_distance (l1), and \n",
    "        euclidean_distance (l2) for p = 2. For arbitrary p, minkowski_distance (l_p) is used.\n",
    "\n",
    "metric : string or callable, default ‘minkowski’\n",
    "    the distance metric to use for the tree. The default metric is minkowski, and with p=2 is equivalent to the standard \n",
    "        Euclidean metric. See the documentation of the DistanceMetric class for a list of available metrics.\n",
    "\n",
    "metric_params : dict, optional (default = None)\n",
    "    Additional keyword arguments for the metric function.\n",
    "\n",
    "n_jobs : int or None, optional (default=None)\n",
    "    The number of parallel jobs to run for neighbors search. None means 1 unless in a joblib.parallel_backend context. -1\n",
    "        means using all processors. See Glossary for more details. Doesn’t affect fit method.\n",
    "\"\"\""
   ]
  },
  {
   "cell_type": "code",
   "execution_count": 10,
   "metadata": {},
   "outputs": [],
   "source": [
    "flower_dataset = [\n",
    "    [5.1, 3.5, 1.4, 0.2],\n",
    "    [4.9, 3.0, 1.4, 0.2],\n",
    "    [4.7, 3.2, 1.3, 0.2],\n",
    "    [4.6, 3.1, 1.5, 0.2],\n",
    "    [5.0, 3.6, 1.4, 0.2],\n",
    "    [5.4, 3.9, 1.7, 0.4],\n",
    "    [4.6, 3.4, 1.4, 0.3],\n",
    "    [5.0, 3.4, 1.5, 0.2],\n",
    "    [4.4, 2.9, 1.4, 0.2],\n",
    "    [4.9, 3.1, 1.5, 0.1],\n",
    "    [5.4, 3.7, 1.5, 0.2],\n",
    "    [4.8, 3.4, 1.6, 0.2],\n",
    "    [4.8, 3.0, 1.4, 0.1],\n",
    "    [4.3, 3.0, 1.1, 0.1],\n",
    "    [5.8, 4.0, 1.2, 0.2],\n",
    "    [5.7, 4.4, 1.5, 0.4],\n",
    "    [5.4, 3.9, 1.3, 0.4],\n",
    "    [5.1, 3.5, 1.4, 0.3],\n",
    "    [5.7, 3.8, 1.7, 0.3],\n",
    "    [5.1, 3.8, 1.5, 0.3],\n",
    "    [5.4, 3.4, 1.7, 0.2],\n",
    "    [5.1, 3.7, 1.5, 0.4],\n",
    "    [4.6, 3.6, 1.0, 0.2],\n",
    "    [5.1, 3.3, 1.7, 0.5],\n",
    "    [4.8, 3.4, 1.9, 0.2],\n",
    "    [5.0, 3.0, 1.6, 0.2],\n",
    "    [5.0, 3.4, 1.6, 0.4],\n",
    "    [5.2, 3.5, 1.5, 0.2],\n",
    "    [5.2, 3.4, 1.4, 0.2],\n",
    "    [4.7, 3.2, 1.6, 0.2],\n",
    "    [4.8, 3.1, 1.6, 0.2],\n",
    "    [5.4, 3.4, 1.5, 0.4],\n",
    "    [5.2, 4.1, 1.5, 0.1],\n",
    "    [5.5, 4.2, 1.4, 0.2],\n",
    "    [4.9, 3.1, 1.5, 0.1],\n",
    "    [5.0, 3.2, 1.2, 0.2],\n",
    "    [5.5, 3.5, 1.3, 0.2],\n",
    "    [4.9, 3.1, 1.5, 0.1],\n",
    "    [4.4, 3.0, 1.3, 0.2],\n",
    "    [5.1, 3.4, 1.5, 0.2],\n",
    "    [5.0, 3.5, 1.3, 0.3],\n",
    "    [4.5, 2.3, 1.3, 0.3],\n",
    "    [4.4, 3.2, 1.3, 0.2],\n",
    "    [5.0, 3.5, 1.6, 0.6],\n",
    "    [5.1, 3.8, 1.9, 0.4],\n",
    "    [4.8, 3.0, 1.4, 0.3],\n",
    "    [5.1, 3.8, 1.6, 0.2],\n",
    "    [4.6, 3.2, 1.4, 0.2],\n",
    "    [5.3, 3.7, 1.5, 0.2],\n",
    "    [5.0, 3.3, 1.4, 0.2],\n",
    "    [7.0, 3.2, 4.7, 1.4],\n",
    "    [6.4, 3.2, 4.5, 1.5],\n",
    "    [6.9, 3.1, 4.9, 1.5],\n",
    "    [5.5, 2.3, 4.0, 1.3],\n",
    "    [6.5, 2.8, 4.6, 1.5],\n",
    "    [5.7, 2.8, 4.5, 1.3],\n",
    "    [6.3, 3.3, 4.7, 1.6],\n",
    "    [4.9, 2.4, 3.3, 1.0],\n",
    "    [6.6, 2.9, 4.6, 1.3],\n",
    "    [5.2, 2.7, 3.9, 1.4],\n",
    "    [5.0, 2.0, 3.5, 1.0],\n",
    "    [5.9, 3.0, 4.2, 1.5],\n",
    "    [6.0, 2.2, 4.0, 1.0],\n",
    "    [6.1, 2.9, 4.7, 1.4],\n",
    "    [5.6, 2.9, 3.6, 1.3],\n",
    "    [6.7, 3.1, 4.4, 1.4],\n",
    "    [5.6, 3.0, 4.5, 1.5],\n",
    "    [5.8, 2.7, 4.1, 1.0],\n",
    "    [6.2, 2.2, 4.5, 1.5],\n",
    "    [5.6, 2.5, 3.9, 1.1],\n",
    "    [5.9, 3.2, 4.8, 1.8],\n",
    "    [6.1, 2.8, 4.0, 1.3],\n",
    "    [6.3, 2.5, 4.9, 1.5],\n",
    "    [6.1, 2.8, 4.7, 1.2],\n",
    "    [6.4, 2.9, 4.3, 1.3],\n",
    "    [6.6, 3.0, 4.4, 1.4],\n",
    "    [6.8, 2.8, 4.8, 1.4],\n",
    "    [6.7, 3.0, 5.0, 1.7],\n",
    "    [6.0, 2.9, 4.5, 1.5],\n",
    "    [5.7, 2.6, 3.5, 1.0],\n",
    "    [5.5, 2.4, 3.8, 1.1],\n",
    "    [5.5, 2.4, 3.7, 1.0],\n",
    "    [5.8, 2.7, 3.9, 1.2],\n",
    "    [6.0, 2.7, 5.1, 1.6],\n",
    "    [5.4, 3.0, 4.5, 1.5],\n",
    "    [6.0, 3.4, 4.5, 1.6],\n",
    "    [6.7, 3.1, 4.7, 1.5],\n",
    "    [6.3, 2.3, 4.4, 1.3],\n",
    "    [5.6, 3.0, 4.1, 1.3],\n",
    "    [5.5, 2.5, 4.0, 1.3],\n",
    "    [5.5, 2.6, 4.4, 1.2],\n",
    "    [6.1, 3.0, 4.6, 1.4],\n",
    "    [5.8, 2.6, 4.0, 1.2],\n",
    "    [5.0, 2.3, 3.3, 1.0],\n",
    "    [5.6, 2.7, 4.2, 1.3],\n",
    "    [5.7, 3.0, 4.2, 1.2],\n",
    "    [5.7, 2.9, 4.2, 1.3],\n",
    "    [6.2, 2.9, 4.3, 1.3],\n",
    "    [5.1, 2.5, 3.0, 1.1],\n",
    "    [5.7, 2.8, 4.1, 1.3],\n",
    "    [6.3, 3.3, 6.0, 2.5],\n",
    "    [5.8, 2.7, 5.1, 1.9],\n",
    "    [7.1, 3.0, 5.9, 2.1],\n",
    "    [6.3, 2.9, 5.6, 1.8],\n",
    "    [6.5, 3.0, 5.8, 2.2],\n",
    "    [7.6, 3.0, 6.6, 2.1],\n",
    "    [4.9, 2.5, 4.5, 1.7],\n",
    "    [7.3, 2.9, 6.3, 1.8],\n",
    "    [6.7, 2.5, 5.8, 1.8],\n",
    "    [7.2, 3.6, 6.1, 2.5],\n",
    "    [6.5, 3.2, 5.1, 2.0],\n",
    "    [6.4, 2.7, 5.3, 1.9],\n",
    "    [6.8, 3.0, 5.5, 2.1],\n",
    "    [5.7, 2.5, 5.0, 2.0],\n",
    "    [5.8, 2.8, 5.1, 2.4],\n",
    "    [6.4, 3.2, 5.3, 2.3],\n",
    "    [6.5, 3.0, 5.5, 1.8],\n",
    "    [7.7, 3.8, 6.7, 2.2],\n",
    "    [7.7, 2.6, 6.9, 2.3],\n",
    "    [6.0, 2.2, 5.0, 1.5],\n",
    "    [6.9, 3.2, 5.7, 2.3],\n",
    "    [5.6, 2.8, 4.9, 2.0],\n",
    "    [7.7, 2.8, 6.7, 2.0],\n",
    "    [6.3, 2.7, 4.9, 1.8],\n",
    "    [6.7, 3.3, 5.7, 2.1],\n",
    "    [7.2, 3.2, 6.0, 1.8],\n",
    "    [6.2, 2.8, 4.8, 1.8],\n",
    "    [6.1, 3.0, 4.9, 1.8],\n",
    "    [6.4, 2.8, 5.6, 2.1],\n",
    "    [7.2, 3.0, 5.8, 1.6],\n",
    "    [7.4, 2.8, 6.1, 1.9],\n",
    "    [7.9, 3.8, 6.4, 2.0],\n",
    "    [6.4, 2.8, 5.6, 2.2],\n",
    "    [6.3, 2.8, 5.1, 1.5],\n",
    "    [6.1, 2.6, 5.6, 1.4],\n",
    "    [7.7, 3.0, 6.1, 2.3],\n",
    "    [6.3, 3.4, 5.6, 2.4],\n",
    "    [6.4, 3.1, 5.5, 1.8],\n",
    "    [6.0, 3.0, 4.8, 1.8],\n",
    "    [6.9, 3.1, 5.4, 2.1],\n",
    "    [6.7, 3.1, 5.6, 2.4],\n",
    "    [6.9, 3.1, 5.1, 2.3],\n",
    "    [5.8, 2.7, 5.1, 1.9],\n",
    "    [6.8, 3.2, 5.9, 2.3],\n",
    "    [6.7, 3.3, 5.7, 2.5],\n",
    "    [6.7, 3.0, 5.2, 2.3],\n",
    "    [6.3, 2.5, 5.0, 1.9],\n",
    "    [6.5, 3.0, 5.2, 2.0],\n",
    "    [6.2, 3.4, 5.4, 2.3],\n",
    "    [5.9, 3.0, 5.1, 1.8]\n",
    "]"
   ]
  },
  {
   "cell_type": "code",
   "execution_count": 11,
   "metadata": {},
   "outputs": [],
   "source": [
    "flower_dataset_label = [0,0,0,0,0,0,0,0,0,0,0,0,0,0,0,0,0,0,0,0,0,0,0,0,0,0,0,0,0,0,0,0,0,0,0,0,0,0,0,0,0,0,0,0,0,0,0,0,0,0,1,1,1,1,1,1,1,1,1,1,1,1,1,1,1,1,1,1,1,1,1,1,1,1,1,1,1,1,1,1,1,1,1,1,1,1,1,1,1,1,1,1,1,1,1,1,1,1,1,1,2,2,2,2,2,2,2,2,2,2,2,2,2,2,2,2,2,2,2,2,2,2,2,2,2,2,2,2,2,2,2,2,2,2,2,2,2,2,2,2,2,2,2,2,2,2,2,2,2,2]"
   ]
  },
  {
   "cell_type": "code",
   "execution_count": 12,
   "metadata": {},
   "outputs": [],
   "source": [
    "flower_label_to_name = [\"setosa\", \"versicolor\", \"virginica\"]"
   ]
  },
  {
   "cell_type": "code",
   "execution_count": 13,
   "metadata": {},
   "outputs": [
    {
     "data": {
      "text/plain": [
       "'(X, y)\\n\\nX : {array-like, sparse matrix, BallTree, KDTree}\\n    Training data. If array or matrix, shape [n_samples, n_features], or [n_samples, n_samples] if metric=’precomputed’.\\n\\ny : {array-like, sparse matrix}\\n    Target values of shape = [n_samples] or [n_samples, n_outputs]\\n'"
      ]
     },
     "execution_count": 13,
     "metadata": {},
     "output_type": "execute_result"
    }
   ],
   "source": [
    "knn.fit(flower_dataset,flower_dataset_label)\n",
    "\"\"\"(X, y)\n",
    "\n",
    "X : {array-like, sparse matrix, BallTree, KDTree}\n",
    "    Training data. If array or matrix, shape [n_samples, n_features], or [n_samples, n_samples] if metric=’precomputed’.\n",
    "\n",
    "y : {array-like, sparse matrix}\n",
    "    Target values of shape = [n_samples] or [n_samples, n_outputs]\n",
    "\"\"\""
   ]
  },
  {
   "cell_type": "code",
   "execution_count": 14,
   "metadata": {},
   "outputs": [
    {
     "data": {
      "text/plain": [
       "' (X)\\nX : array-like, shape (n_query, n_features), or (n_query, n_indexed) if metric == ‘precomputed’\\n    Test samples.\\n\\n'"
      ]
     },
     "execution_count": 14,
     "metadata": {},
     "output_type": "execute_result"
    }
   ],
   "source": [
    "predicted_data = knn.predict([[5.0, 3.0, 1.0, 0.0]])[0]\n",
    "\"\"\" (X)\n",
    "X : array-like, shape (n_query, n_features), or (n_query, n_indexed) if metric == ‘precomputed’\n",
    "    Test samples.\n",
    "\n",
    "\"\"\""
   ]
  },
  {
   "cell_type": "code",
   "execution_count": 15,
   "metadata": {},
   "outputs": [
    {
     "name": "stdout",
     "output_type": "stream",
     "text": [
      "setosa\n"
     ]
    }
   ],
   "source": [
    "print(flower_label_to_name[predicted_data])"
   ]
  }
 ],
 "metadata": {
  "kernelspec": {
   "display_name": "Python 3",
   "language": "python",
   "name": "python3"
  },
  "language_info": {
   "codemirror_mode": {
    "name": "ipython",
    "version": 3
   },
   "file_extension": ".py",
   "mimetype": "text/x-python",
   "name": "python",
   "nbconvert_exporter": "python",
   "pygments_lexer": "ipython3",
   "version": "3.7.0"
  }
 },
 "nbformat": 4,
 "nbformat_minor": 2
}
