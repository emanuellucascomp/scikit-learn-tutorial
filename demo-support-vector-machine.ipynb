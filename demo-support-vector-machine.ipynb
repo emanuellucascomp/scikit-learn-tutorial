{
 "cells": [
  {
   "cell_type": "code",
   "execution_count": 2,
   "metadata": {},
   "outputs": [],
   "source": [
    "import numpy as np\n",
    "from sklearn.svm import SVC"
   ]
  },
  {
   "cell_type": "code",
   "execution_count": 3,
   "metadata": {},
   "outputs": [],
   "source": [
    "X = np.array([[-1, -1], [-2, -1], [1, -1], [-1, 1], [1, 1], [2, 1]])\n",
    "y = np.array([0, 0, 1, 1, 2, 2])"
   ]
  },
  {
   "cell_type": "code",
   "execution_count": 7,
   "metadata": {},
   "outputs": [
    {
     "data": {
      "text/plain": [
       "\" (C=1.0, kernel=’rbf’, degree=3, gamma=’auto_deprecated’, coef0=0.0, shrinking=True, probability=False, tol=0.001, cache_size=200, class_weight=None, verbose=False, max_iter=-1, decision_function_shape=’ovr’, random_state=None)\\n\\nC : float, optional (default=1.0)\\n    Penalty parameter C of the error term.\\n\\nkernel : string, optional (default=’rbf’)\\n    Specifies the kernel type to be used in the algorithm. It must be one of ‘linear’, ‘poly’, ‘rbf’, ‘sigmoid’, \\n        ‘precomputed’ or a callable. If none is given, ‘rbf’ will be used. If a callable is given it is used to pre-compute\\n        the kernel matrix from data matrices; that matrix should be an array of shape (n_samples, n_samples).\\n\\ndegree : int, optional (default=3)\\n    Degree of the polynomial kernel function (‘poly’). Ignored by all other kernels.\\n\\ngamma : float, optional (default=’auto’)\\n    Kernel coefficient for ‘rbf’, ‘poly’ and ‘sigmoid’.\\n    Current default is ‘auto’ which uses 1 / n_features, if gamma='scale' is passed then it uses 1 / (n_features * X.std())\\n        as value of gamma. The current default of gamma, ‘auto’, will change to ‘scale’ in version 0.22. ‘auto_deprecated’,\\n        a deprecated version of ‘auto’ is used as a default indicating that no explicit value of gamma was passed.\\n\\ncoef0 : float, optional (default=0.0)\\n    Independent term in kernel function. It is only significant in ‘poly’ and ‘sigmoid’.\\n    \\nshrinking : boolean, optional (default=True)\\n    Whether to use the shrinking heuristic.\\n    \\nprobability : boolean, optional (default=False)\\n    Whether to enable probability estimates. This must be enabled prior to calling fit, and will slow down that method.\\n    \\ntol : float, optional (default=1e-3)\\n    Tolerance for stopping criterion.\\n    \\ncache_size : float, optional\\n    Specify the size of the kernel cache (in MB).\\n\\nclass_weight : {dict, ‘balanced’}, optional\\n    Set the parameter C of class i to class_weight[i]*C for SVC. If not given, all classes are supposed to have weight one.\\n        The “balanced” mode uses the values of y to automatically adjust weights inversely proportional to class frequencies\\n        in the input data as n_samples / (n_classes * np.bincount(y))\\n        \\nverbose : bool, default: False\\n    Enable verbose output. Note that this setting takes advantage of a per-process runtime setting in libsvm that, if \\n        enabled, may not work properly in a multithreaded context.\\n        \\nmax_iter : int, optional (default=-1)\\n    Hard limit on iterations within solver, or -1 for no limit.\\n    \\ndecision_function_shape : ‘ovo’, ‘ovr’, default=’ovr’\\n    Whether to return a one-vs-rest (‘ovr’) decision function of shape (n_samples, n_classes) as all other classifiers, or\\n        the original one-vs-one (‘ovo’) decision function of libsvm which has shape (n_samples, n_classes * (n_classes - 1) / 2). However, one-vs-one (‘ovo’) is always used as multi-class strategy.\\n    Changed in version 0.19: decision_function_shape is ‘ovr’ by default.\\n    New in version 0.17: decision_function_shape=’ovr’ is recommended.\\n    Changed in version 0.17: Deprecated decision_function_shape=’ovo’ and None.\\n    \\nrandom_state : int, RandomState instance or None, optional (default=None)\\n    The seed of the pseudo random number generator used when shuffling the data for probability estimates. If int, \\n        random_state is the seed used by the random number generator; If RandomState instance, random_state is the random\\n        number generator; If None, the random number generator is the RandomState instance used by np.random.\\n\""
      ]
     },
     "execution_count": 7,
     "metadata": {},
     "output_type": "execute_result"
    }
   ],
   "source": [
    "clf = SVC(gamma='auto')\n",
    "\"\"\" (C=1.0, kernel=’rbf’, degree=3, gamma=’auto_deprecated’, coef0=0.0, shrinking=True, probability=False, tol=0.001, cache_size=200, class_weight=None, verbose=False, max_iter=-1, decision_function_shape=’ovr’, random_state=None)\n",
    "\n",
    "C : float, optional (default=1.0)\n",
    "    Penalty parameter C of the error term.\n",
    "\n",
    "kernel : string, optional (default=’rbf’)\n",
    "    Specifies the kernel type to be used in the algorithm. It must be one of ‘linear’, ‘poly’, ‘rbf’, ‘sigmoid’, \n",
    "        ‘precomputed’ or a callable. If none is given, ‘rbf’ will be used. If a callable is given it is used to pre-compute\n",
    "        the kernel matrix from data matrices; that matrix should be an array of shape (n_samples, n_samples).\n",
    "\n",
    "degree : int, optional (default=3)\n",
    "    Degree of the polynomial kernel function (‘poly’). Ignored by all other kernels.\n",
    "\n",
    "gamma : float, optional (default=’auto’)\n",
    "    Kernel coefficient for ‘rbf’, ‘poly’ and ‘sigmoid’.\n",
    "    Current default is ‘auto’ which uses 1 / n_features, if gamma='scale' is passed then it uses 1 / (n_features * X.std())\n",
    "        as value of gamma. The current default of gamma, ‘auto’, will change to ‘scale’ in version 0.22. ‘auto_deprecated’,\n",
    "        a deprecated version of ‘auto’ is used as a default indicating that no explicit value of gamma was passed.\n",
    "\n",
    "coef0 : float, optional (default=0.0)\n",
    "    Independent term in kernel function. It is only significant in ‘poly’ and ‘sigmoid’.\n",
    "    \n",
    "shrinking : boolean, optional (default=True)\n",
    "    Whether to use the shrinking heuristic.\n",
    "    \n",
    "probability : boolean, optional (default=False)\n",
    "    Whether to enable probability estimates. This must be enabled prior to calling fit, and will slow down that method.\n",
    "    \n",
    "tol : float, optional (default=1e-3)\n",
    "    Tolerance for stopping criterion.\n",
    "    \n",
    "cache_size : float, optional\n",
    "    Specify the size of the kernel cache (in MB).\n",
    "\n",
    "class_weight : {dict, ‘balanced’}, optional\n",
    "    Set the parameter C of class i to class_weight[i]*C for SVC. If not given, all classes are supposed to have weight one.\n",
    "        The “balanced” mode uses the values of y to automatically adjust weights inversely proportional to class frequencies\n",
    "        in the input data as n_samples / (n_classes * np.bincount(y))\n",
    "        \n",
    "verbose : bool, default: False\n",
    "    Enable verbose output. Note that this setting takes advantage of a per-process runtime setting in libsvm that, if \n",
    "        enabled, may not work properly in a multithreaded context.\n",
    "        \n",
    "max_iter : int, optional (default=-1)\n",
    "    Hard limit on iterations within solver, or -1 for no limit.\n",
    "    \n",
    "decision_function_shape : ‘ovo’, ‘ovr’, default=’ovr’\n",
    "    Whether to return a one-vs-rest (‘ovr’) decision function of shape (n_samples, n_classes) as all other classifiers, or\n",
    "        the original one-vs-one (‘ovo’) decision function of libsvm which has shape (n_samples, n_classes * (n_classes - 1) / 2). However, one-vs-one (‘ovo’) is always used as multi-class strategy.\n",
    "    Changed in version 0.19: decision_function_shape is ‘ovr’ by default.\n",
    "    New in version 0.17: decision_function_shape=’ovr’ is recommended.\n",
    "    Changed in version 0.17: Deprecated decision_function_shape=’ovo’ and None.\n",
    "    \n",
    "random_state : int, RandomState instance or None, optional (default=None)\n",
    "    The seed of the pseudo random number generator used when shuffling the data for probability estimates. If int, \n",
    "        random_state is the seed used by the random number generator; If RandomState instance, random_state is the random\n",
    "        number generator; If None, the random number generator is the RandomState instance used by np.random.\n",
    "\"\"\""
   ]
  },
  {
   "cell_type": "code",
   "execution_count": 8,
   "metadata": {},
   "outputs": [
    {
     "data": {
      "text/plain": [
       "SVC(C=1.0, cache_size=200, class_weight=None, coef0=0.0,\n",
       "  decision_function_shape='ovr', degree=3, gamma='auto', kernel='rbf',\n",
       "  max_iter=-1, probability=False, random_state=None, shrinking=True,\n",
       "  tol=0.001, verbose=False)"
      ]
     },
     "execution_count": 8,
     "metadata": {},
     "output_type": "execute_result"
    }
   ],
   "source": [
    "clf.fit(X,y)"
   ]
  },
  {
   "cell_type": "code",
   "execution_count": 9,
   "metadata": {},
   "outputs": [
    {
     "name": "stdout",
     "output_type": "stream",
     "text": [
      "0\n"
     ]
    }
   ],
   "source": [
    "print(clf.predict([[-0.8, -1]])[0])"
   ]
  }
 ],
 "metadata": {
  "kernelspec": {
   "display_name": "Python 3",
   "language": "python",
   "name": "python3"
  },
  "language_info": {
   "codemirror_mode": {
    "name": "ipython",
    "version": 3
   },
   "file_extension": ".py",
   "mimetype": "text/x-python",
   "name": "python",
   "nbconvert_exporter": "python",
   "pygments_lexer": "ipython3",
   "version": "3.7.0"
  }
 },
 "nbformat": 4,
 "nbformat_minor": 2
}
